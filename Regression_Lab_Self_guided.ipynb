{
  "nbformat": 4,
  "nbformat_minor": 0,
  "metadata": {
    "colab": {
      "private_outputs": true,
      "provenance": [],
      "authorship_tag": "ABX9TyNgte2CEfjAf45rsQwby9o3",
      "include_colab_link": true
    },
    "kernelspec": {
      "name": "python3",
      "display_name": "Python 3"
    },
    "language_info": {
      "name": "python"
    }
  },
  "cells": [
    {
      "cell_type": "markdown",
      "metadata": {
        "id": "view-in-github",
        "colab_type": "text"
      },
      "source": [
        "<a href=\"https://colab.research.google.com/github/waelrash1/DL/blob/master/Regression_Lab_Self_guided.ipynb\" target=\"_parent\"><img src=\"https://colab.research.google.com/assets/colab-badge.svg\" alt=\"Open In Colab\"/></a>"
      ]
    },
    {
      "cell_type": "markdown",
      "source": [
        "# Self-Guided Lab on Simple and Multiple Regression using California Housing Dataset\n",
        "\n",
        "## Objectives:\n",
        "- Understand and apply simple linear regression.\n",
        "- Understand and apply multiple linear regression.\n",
        "- Learn how to interpret the results of regression models.\n",
        "- Gain experience with Python’s `statsmodels` and `scikit-learn` libraries.\n",
        "\n",
        "## Setup\n",
        "\n",
        "```python\n",
        "import numpy as np\n",
        "import pandas as pd\n",
        "from sklearn import datasets\n",
        "from sklearn.model_selection import train_test_split\n",
        "import statsmodels.api as sm\n",
        "from sklearn.linear_model import LinearRegression\n",
        "from sklearn.metrics import mean_squared_error, r2_score\n",
        "import matplotlib.pyplot as plt\n",
        "%matplotlib inline\n",
        "\n"
      ],
      "metadata": {
        "id": "Z9pO3FCLLYBF"
      }
    },
    {
      "cell_type": "markdown",
      "source": [
        "## The California Housing Dataset\n",
        "\n",
        "\n",
        "**Data Set Characteristics:**\n",
        "\n",
        " **Number of Instances:** 20640\n",
        "\n",
        " **Number of Attributes:** 8 numeric, predictive attributes and the target\n",
        "\n",
        " **Attribute Information:**\n",
        "  * MedInc        median income in block group\n",
        "  * HouseAge      median house age in block group\n",
        "  * AveRooms      average number of rooms per household\n",
        "  * AveBedrms     average number of bedrooms per household\n",
        "  * Population    block group population\n",
        "  * AveOccup      average number of household members\n",
        "  * Latitude      block group latitude\n",
        "  * Longitude     block group longitude\n",
        "\n",
        "\n",
        "**Missing Attribute Values:** None\n",
        "\n",
        "This dataset was obtained from the StatLib repository.\n",
        "[link](https://www.dcc.fc.up.pt/~ltorgo/Regression/cal_housing.html)\n",
        "\n",
        "## Label/Target variable\n",
        "`The target variable is the median house value for California districts,\n",
        "expressed in hundreds of thousands of dollars ($100,000).`\n",
        "\n",
        "This dataset was derived from the 1990 U.S. census, using one row per census\n",
        "block group. A block group is the smallest geographical unit for which the U.S.\n",
        "Census Bureau publishes sample data (a block group typically has a population\n",
        "of 600 to 3,000 people).\n",
        "\n",
        "\n",
        "A household is a group of people residing within a home. Since the average\n",
        "number of rooms and bedrooms in this dataset are provided per household, these\n",
        "columns may take surprisingly large values for block groups with few households\n",
        "and many empty houses, such as vacation resorts.\n",
        "\n",
        "It can be downloaded/loaded using the\n",
        "```python\n",
        "sklearn.datasets.fetch_california_housing\n",
        "```\n",
        "**Reference**:\n",
        "\n",
        " Pace, R. Kelley and Ronald Barry, Sparse Spatial Autoregressions,\n",
        "  Statistics and Probability Letters, 33 (1997) 291-297\n",
        "\n",
        "\n"
      ],
      "metadata": {
        "id": "SHtREJLtUWtK"
      }
    },
    {
      "cell_type": "markdown",
      "source": [
        "## Part 1: Load and Explore the Data\n",
        "```python\n",
        "# Load the California Housing dataset\n",
        "california_housing = datasets.fetch_california_housing()\n",
        "df = pd.DataFrame(california_housing.data, columns=california_housing.feature_names)\n",
        "target = pd.DataFrame(california_housing.target, columns=[\"MedHouseVal\"])\n",
        "\n",
        "# Display the first few rows of the dataset\n",
        "df.head()\n",
        "```\n",
        "\n",
        "\n",
        "### Visualise dataset\n",
        "\n",
        "```python\n",
        "import matplotlib.pyplot as plt\n",
        "df.hist(figsize=(12, 10), bins=30, edgecolor=\"black\")\n",
        "target.hist(figsize=(4, 2.5), bins=30, edgecolor=\"black\")\n",
        "plt.subplots_adjust(hspace=0.7, wspace=0.4)\n",
        "```\n"
      ],
      "metadata": {
        "id": "khYojNiMhtLb"
      }
    },
    {
      "cell_type": "markdown",
      "source": [
        "##  Task 1: Familiarize yourself with the dataset. Which features might be good predictors for the median house value? Write your comments and observation below.\n",
        "\n"
      ],
      "metadata": {
        "id": "W5hon5WJigWI"
      }
    },
    {
      "cell_type": "markdown",
      "source": [
        "\n",
        "---\n",
        "\n",
        "\n",
        "**Add You Answer here:**\n",
        "\n",
        "*\n",
        "\n",
        "*\n",
        "\n",
        "\n",
        "\n",
        "---\n"
      ],
      "metadata": {
        "id": "_CyjwCW372fD"
      }
    },
    {
      "cell_type": "markdown",
      "source": [],
      "metadata": {
        "id": "NgZ2ZFFr8uJu"
      }
    },
    {
      "cell_type": "markdown",
      "source": [
        "## Part 2: Simple Linear Regression with statsmodels [Explain](https://mlu-explain.github.io/linear-regression/)\n",
        "### 2.1 Simple Linear Regression Without a Constant\n",
        "\n",
        "\n",
        "\n",
        "\n",
        "```python\n",
        "# Use MedInc as single predictor\n",
        "X = df[\"MedInc\"]\n",
        "y = target[\"MedHouseVal\"]\n",
        "model = sm.OLS(y, X).fit()\n",
        "predictions = model.predict(X)\n",
        "model.summary()\n",
        "```\n",
        "## Task 2: Interpret the output. What does the coefficient for 'MedInc' tell you?\n",
        "## Question: What is the meaning of the R-squared value in this context?"
      ],
      "metadata": {
        "id": "CVSEJO8KizT6"
      }
    },
    {
      "cell_type": "markdown",
      "source": [
        "\n",
        "\n",
        "---\n",
        "\n",
        "\n",
        "**Add You Answer here:**\n",
        "\n",
        "*\n",
        "\n",
        "*\n",
        "\n",
        "\n",
        "\n",
        "---\n"
      ],
      "metadata": {
        "id": "6d9Hr6n97w_x"
      }
    },
    {
      "cell_type": "markdown",
      "source": [
        "### 2.2 Simple Linear Regression With a Constant\n",
        "``` python\n",
        "\n",
        "X = sm.add_constant(df[\"MedInc\"])  # Adding a constant\n",
        "model = sm.OLS(y, X).fit()\n",
        "predictions = model.predict(X)\n",
        "model.summary()\n",
        "```\n",
        "## Task 2: Compare this output to the previous model. How has the inclusion of a constant term affected the results?\n",
        "\n",
        "## Question: How does the coefficient for 'MedInc' change, and why?\n"
      ],
      "metadata": {
        "id": "-sF4n19hlAry"
      }
    },
    {
      "cell_type": "markdown",
      "source": [
        "\n",
        "\n",
        "---\n",
        "\n",
        "\n",
        "**Add You Answer here:**\n",
        "\n",
        "*\n",
        "\n",
        "*\n",
        "\n",
        "\n",
        "\n",
        "---\n",
        "\n"
      ],
      "metadata": {
        "id": "luheAq0k7R8F"
      }
    },
    {
      "cell_type": "code",
      "source": [],
      "metadata": {
        "id": "vNb0WoT99rSD"
      },
      "execution_count": null,
      "outputs": []
    }
  ]
}