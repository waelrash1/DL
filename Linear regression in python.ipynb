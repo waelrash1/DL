{
  "nbformat": 4,
  "nbformat_minor": 0,
  "metadata": {
    "colab": {
      "name": "Untitled13.ipynb",
      "private_outputs": true,
      "provenance": [],
      "collapsed_sections": [],
      "authorship_tag": "ABX9TyNLVtz5M2pNJ8Nz4nx5yH6T",
      "include_colab_link": true
    },
    "kernelspec": {
      "name": "python3",
      "display_name": "Python 3"
    },
    "language_info": {
      "name": "python"
    }
  },
  "cells": [
    {
      "cell_type": "markdown",
      "metadata": {
        "id": "view-in-github",
        "colab_type": "text"
      },
      "source": [
        "<a href=\"https://colab.research.google.com/github/waelrash1/DL/blob/master/Linear%20regression%20in%20python.ipynb\" target=\"_parent\"><img src=\"https://colab.research.google.com/assets/colab-badge.svg\" alt=\"Open In Colab\"/></a>"
      ]
    },
    {
      "cell_type": "markdown",
      "metadata": {
        "id": "jKZ1NCfcc8Rg"
      },
      "source": [
        "# Statitical models from statsmodel.api\n",
        "\n",
        "---\n",
        "## Simple and Multiple Linear Regression\n"
      ]
    },
    {
      "cell_type": "code",
      "metadata": {
        "id": "NMceumAAbYNd"
      },
      "source": [
        "import statsmodels.api as sm\n",
        "import numpy as np\n",
        "import pandas as pd\n",
        "from sklearn import datasets ## imports datasets from scikit-learn\n",
        "import matplotlib.pyplot as plt\n",
        "\n"
      ],
      "execution_count": null,
      "outputs": []
    },
    {
      "cell_type": "code",
      "metadata": {
        "id": "MyTZ6FcqbcAP"
      },
      "source": [
        "data = datasets.load_boston() ## loads Boston dataset from datasets library "
      ],
      "execution_count": null,
      "outputs": []
    },
    {
      "cell_type": "code",
      "metadata": {
        "id": "SdIEWFejb4tD"
      },
      "source": [
        "data.feature_names\n",
        "print(data.DESCR)"
      ],
      "execution_count": null,
      "outputs": []
    },
    {
      "cell_type": "code",
      "metadata": {
        "id": "gFcbnh3ccbv9"
      },
      "source": [
        "# define the data/predictors as the pre-set feature names  \n",
        "df = pd.DataFrame(data.data, columns=data.feature_names)\n",
        "\n",
        "# Put the target (housing value -- MEDV) in another DataFrame\n",
        "target = pd.DataFrame(data.target, columns=[\"MEDV\"])"
      ],
      "execution_count": null,
      "outputs": []
    },
    {
      "cell_type": "code",
      "metadata": {
        "id": "8iPdUbyZcvqF"
      },
      "source": [
        "df"
      ],
      "execution_count": null,
      "outputs": []
    },
    {
      "cell_type": "code",
      "metadata": {
        "id": "L-wjuxqYcd8s"
      },
      "source": [
        "\n",
        "target"
      ],
      "execution_count": null,
      "outputs": []
    },
    {
      "cell_type": "markdown",
      "source": [
        "## Simple OLS without constant (intercept/bias)"
      ],
      "metadata": {
        "id": "sNK582Q6ciZ7"
      }
    },
    {
      "cell_type": "code",
      "source": [
        "import numpy as np\n",
        "import matplotlib.pyplot as plt\n",
        "\n",
        "X = df[\"RM\"]\n",
        "y = target[\"MEDV\"]\n",
        "#colors = np.random.rand(506)\n",
        "\n",
        "plt.scatter(X,y, alpha=0.4)\n",
        "plt.xlabel('RM')\n",
        "plt.ylabel('MEDV')\n",
        "plt.title('Boston housing')\n",
        "plt.show()"
      ],
      "metadata": {
        "id": "_ZGzGlj-drEP"
      },
      "execution_count": null,
      "outputs": []
    },
    {
      "cell_type": "code",
      "metadata": {
        "id": "pjvwEzHsdhIG"
      },
      "source": [
        "## Without a constant\n",
        "\n",
        "# Note the difference in argument order\n",
        "model = sm.OLS(y, X).fit()\n",
        "predictions = model.predict(X) # make the predictions by the model\n",
        "\n",
        "# Print out the statistics\n",
        "model.summary()"
      ],
      "execution_count": null,
      "outputs": []
    },
    {
      "cell_type": "markdown",
      "metadata": {
        "id": "TupRkeGAfrLv"
      },
      "source": [
        "**Interpreting the Table** —This is a very long table, isn’t it? First we have what’s the dependent variable and the model and the method. OLS stands for Ordinary Least Squares and the method “Least Squares” means that we’re trying to fit a regression line that would minimize the square of distance from the regression line (see the previous section of this post). Date and Time are pretty self-explanatory :) So as number of observations. Df of residuals and models relates to the degrees of freedom — “the number of values in the final calculation of a statistic that are free to vary.”\n",
        "The coefficient of 3.6534 means that as the RM variable increases by 1, the predicted value of MDEV increases by 3.6534. A few other important values are the R-squared — the percentage of variance our model explains; the standard error (is the standard deviation of the sampling distribution of a statistic, most commonly of the mean); the t scores and p-values, for hypothesis test — the RM has statistically significant p-value; there is a 95% confidence intervals for the RM (meaning we predict at a 95% percent confidence that the value of RM is between 3.548 to 3.759).\n",
        "\n",
        "---\n",
        "\n"
      ]
    },
    {
      "cell_type": "markdown",
      "source": [
        "## Simple OLS with constant (intercept/bias)"
      ],
      "metadata": {
        "id": "lE1FCtkBcvgP"
      }
    },
    {
      "cell_type": "code",
      "metadata": {
        "id": "YcrkdocdeXNk"
      },
      "source": [
        "X = df[\"RM\"] ## X usually means our input variables (or independent variables)\n",
        "y = target[\"MEDV\"] ## Y usually means our output/dependent variable\n",
        "X = sm.add_constant(X) ## let's add an intercept (beta_0) to our model\n",
        "\n",
        "# Note the difference in argument order\n",
        "model = sm.OLS(y, X).fit() ## sm.OLS(output, input)\n",
        "predictions = model.predict(X)\n",
        "\n",
        "# Print out the statistics\n",
        "model.summary()"
      ],
      "execution_count": null,
      "outputs": []
    },
    {
      "cell_type": "markdown",
      "metadata": {
        "id": "SzTmBJZNf3xS"
      },
      "source": [
        "**Interpreting the Table** — \n",
        "\n",
        "---\n",
        "\n",
        "With the constant term the coefficients are  different. Without a constant we are forcing our model to go through the origin, but now we have a y-intercept at -34.67. We also changed the slope of the RM predictor from 3.634 to 9.1021."
      ]
    },
    {
      "cell_type": "markdown",
      "source": [
        "## Multiple Regression"
      ],
      "metadata": {
        "id": "w2Z26GQYoYEv"
      }
    },
    {
      "cell_type": "code",
      "source": [
        "X = df[[\"RM\", \"LSTAT\"]]\n",
        "X"
      ],
      "metadata": {
        "id": "44fvKahWxILa"
      },
      "execution_count": null,
      "outputs": []
    },
    {
      "cell_type": "code",
      "source": [
        "import pandas as pd\n",
        "import seaborn as sns\n",
        "X = df[[\"RM\", \"LSTAT\"]]\n",
        "y = target[\"MEDV\"]\n",
        "# one dataframe to for visualisation\n",
        "df2=X.assign(MEDV=y)\n",
        "\n",
        "\n",
        "sns.pairplot(df2,diag_kind = 'kde')\n",
        "plt.show()"
      ],
      "metadata": {
        "id": "4RXewAv-pzBh"
      },
      "execution_count": null,
      "outputs": []
    },
    {
      "cell_type": "code",
      "metadata": {
        "id": "XSVS5SF4euRL"
      },
      "source": [
        "# Multiple Regression\n",
        "X = df[[\"RM\", \"LSTAT\"]]\n",
        "X = sm.add_constant(X)\n",
        "y = target[\"MEDV\"]\n",
        "model = sm.OLS(y, X).fit()\n",
        "predictions = model.predict(X)\n",
        "model.summary()"
      ],
      "execution_count": null,
      "outputs": []
    },
    {
      "cell_type": "markdown",
      "metadata": {
        "id": "k_hbkXgIfV24"
      },
      "source": [
        "**Interpreting the Output** — We can see here \n",
        "\n",
        "---\n",
        "\n",
        "that this model has a much higher R-squared value — 0.639, meaning that this model explains 63.9% of the variance in our dependent variable. Whenever we add variables to a regression model, R² will be higher. We can see that both RM and LSTAT are statistically significant in predicting (or estimating) the median house value; not surprisingly , we see that as RM increases by 1, MEDV will increase by 5.0948 and when LSTAT increases by 1, MEDV will decrease by -0.6424. As you may remember, LSTAT is the percentage of lower status of the population, and unfortunately we can expect that it will lower the median value of houses. With this same logic, the more rooms in a house, usually the higher its value will be."
      ]
    },
    {
      "cell_type": "markdown",
      "metadata": {
        "id": "Fd5otBeuh_sG"
      },
      "source": [
        "# Linear Regression in SKLearn\n"
      ]
    },
    {
      "cell_type": "code",
      "metadata": {
        "id": "dW2WbkxOiIDb"
      },
      "source": [
        "from sklearn import linear_model\n"
      ],
      "execution_count": null,
      "outputs": []
    },
    {
      "cell_type": "code",
      "metadata": {
        "id": "L7b-uFEjiMn0"
      },
      "source": [
        "from sklearn import datasets ## imports datasets from scikit-learn\n",
        "data = datasets.load_boston() ## loads Boston dataset from datasets library"
      ],
      "execution_count": null,
      "outputs": []
    },
    {
      "cell_type": "code",
      "metadata": {
        "id": "FAFYuDcriSd3"
      },
      "source": [
        "# define the data/predictors as the pre-set feature names  \n",
        "df = pd.DataFrame(data.data, columns=data.feature_names)\n",
        "\n",
        "# Put the target (housing value -- MEDV) in another DataFrame\n",
        "target = pd.DataFrame(data.target, columns=[\"MEDV\"])"
      ],
      "execution_count": null,
      "outputs": []
    },
    {
      "cell_type": "code",
      "metadata": {
        "id": "qIuOd19Ri2ve"
      },
      "source": [
        "X = df\n",
        "y = target[\"MEDV\"]"
      ],
      "execution_count": null,
      "outputs": []
    },
    {
      "cell_type": "code",
      "metadata": {
        "id": "BW6-HmuRjDwc"
      },
      "source": [
        "lm = linear_model.LinearRegression()\n",
        "model = lm.fit(X,y)"
      ],
      "execution_count": null,
      "outputs": []
    },
    {
      "cell_type": "code",
      "metadata": {
        "id": "YZjhNJ5tjMro"
      },
      "source": [
        "predictions = lm.predict(X)  # yhat\n",
        "print(predictions[0:5])"
      ],
      "execution_count": null,
      "outputs": []
    },
    {
      "cell_type": "code",
      "metadata": {
        "id": "mqnJLoIDjl8I"
      },
      "source": [
        "#R-squared\n",
        "from sklearn.metrics import r2_score,mean_squared_error\n",
        "print(r2_score(predictions,y),mean_squared_error(predictions,y))\n",
        "#lm.score(X,y)"
      ],
      "execution_count": null,
      "outputs": []
    },
    {
      "cell_type": "code",
      "metadata": {
        "id": "-dUwItCekRHe"
      },
      "source": [
        "data.feature_names"
      ],
      "execution_count": null,
      "outputs": []
    },
    {
      "cell_type": "code",
      "metadata": {
        "id": "pHS3zVkojvW9"
      },
      "source": [
        "lm.coef_ # coefficients\n"
      ],
      "execution_count": null,
      "outputs": []
    },
    {
      "cell_type": "code",
      "metadata": {
        "id": "vk-Um1lTj-En"
      },
      "source": [
        "lm.intercept_ #Intercept"
      ],
      "execution_count": null,
      "outputs": []
    },
    {
      "cell_type": "code",
      "metadata": {
        "id": "RxaTXVRHmlj4"
      },
      "source": [
        "import matplotlib.pyplot as plt\n",
        "%matplotlib inline"
      ],
      "execution_count": null,
      "outputs": []
    },
    {
      "cell_type": "code",
      "metadata": {
        "id": "Cb6gpDhZmofx"
      },
      "source": [
        "#Residual plot\n",
        "plt.scatter(predictions, predictions-y, c='g', s = 40,alpha=.4)\n",
        "plt.hlines(y=0, xmin=0, xmax=50,alpha=.4)\n",
        "plt.title('Residual plot')\n",
        "plt.ylabel('Residual')"
      ],
      "execution_count": null,
      "outputs": []
    }
  ]
}